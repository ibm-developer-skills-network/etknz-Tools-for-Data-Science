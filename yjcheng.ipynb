{
 "cells": [
  {
   "cell_type": "markdown",
   "id": "8afbc59a-a011-43a7-a7a2-37f00ea3f1ba",
   "metadata": {},
   "source": [
    "# My Jupyter Notebook on IBM Watson Studio"
   ]
  },
  {
   "cell_type": "markdown",
   "id": "2cdff206-4b26-4d8f-a1d8-50d7f522f111",
   "metadata": {},
   "source": [
    "**Yan-Jhong Cheng**\n",
    "\n",
    "Current: High Shool Student. Desire Occupation: Data Scientist"
   ]
  },
  {
   "cell_type": "markdown",
   "id": "6c22f424-695a-438b-bc38-579a52772c0d",
   "metadata": {},
   "source": [
    "_I'm intertested in data science becuase data science can turn vague data into meaningful insights that can be used to make various crucial decisions in an organization._"
   ]
  },
  {
   "cell_type": "markdown",
   "id": "677f39dc-863d-4d8f-abf0-d80b6d24647b",
   "metadata": {},
   "source": [
    "### This is a simple code to print \"I love Pyhton.\" "
   ]
  },
  {
   "cell_type": "code",
   "execution_count": 1,
   "id": "afd23446-afc6-4c31-aff9-0c3700d74878",
   "metadata": {},
   "outputs": [
    {
     "name": "stdout",
     "output_type": "stream",
     "text": [
      "I lave Python\n"
     ]
    }
   ],
   "source": [
    "print(\"I lave Python\")"
   ]
  },
  {
   "cell_type": "markdown",
   "id": "aa6bd0db-1147-47d1-9772-3040c293eed2",
   "metadata": {},
   "source": [
    "above\n",
    "\n",
    "----\n",
    "below\n",
    "\n",
    "- First item\n",
    "- Second item\n",
    "- Third item\n",
    "\n",
    "| Date | Who | What |\n",
    "| ---- | --- | ---- |\n",
    "| 2022-09-03 | I did it | Write a simple Python code.|"
   ]
  },
  {
   "cell_type": "code",
   "execution_count": null,
   "id": "447fb254-af5f-4454-a99b-be866d26afd7",
   "metadata": {},
   "outputs": [],
   "source": []
  }
 ],
 "metadata": {
  "kernelspec": {
   "display_name": "Python",
   "language": "python",
   "name": "conda-env-python-py"
  },
  "language_info": {
   "codemirror_mode": {
    "name": "ipython",
    "version": 3
   },
   "file_extension": ".py",
   "mimetype": "text/x-python",
   "name": "python",
   "nbconvert_exporter": "python",
   "pygments_lexer": "ipython3",
   "version": "3.7.12"
  }
 },
 "nbformat": 4,
 "nbformat_minor": 5
}
